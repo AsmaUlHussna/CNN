{
 "cells": [
  {
   "cell_type": "code",
   "execution_count": 1,
   "metadata": {
    "_cell_guid": "dda4fc99-2f89-e2aa-aeb4-f702cc51afaa"
   },
   "outputs": [
    {
     "name": "stdout",
     "output_type": "stream",
     "text": [
      "spam.csv\n",
      "\n"
     ]
    }
   ],
   "source": [
    "# This Python 3 environment comes with many helpful analytics libraries installed\n",
    "# It is defined by the kaggle/python docker image: https://github.com/kaggle/docker-python\n",
    "# For example, here's several helpful packages to load in \n",
    "\n",
    "import numpy as np # linear algebra\n",
    "import pandas as pd # data processing, CSV file I/O (e.g. pd.read_csv)\n",
    "\n",
    "# Input data files are available in the \"../input/\" directory.\n",
    "# For example, running this (by clicking run or pressing Shift+Enter) will list the files in the input directory\n",
    "\n",
    "from subprocess import check_output\n",
    "print(check_output([\"ls\", \"../input\"]).decode(\"utf8\"))\n",
    "\n",
    "# Any results you write to the current directory are saved as output."
   ]
  },
  {
   "cell_type": "code",
   "execution_count": 2,
   "metadata": {
    "_cell_guid": "ea5ca33e-fdfc-e060-aade-bcda984694d0"
   },
   "outputs": [
    {
     "name": "stdout",
     "output_type": "stream",
     "text": [
      "     v1                                                 v2 Unnamed: 2  \\\n",
      "0   ham  Go until jurong point, crazy.. Available only ...        NaN   \n",
      "1   ham                      Ok lar... Joking wif u oni...        NaN   \n",
      "2  spam  Free entry in 2 a wkly comp to win FA Cup fina...        NaN   \n",
      "3   ham  U dun say so early hor... U c already then say...        NaN   \n",
      "4   ham  Nah I don't think he goes to usf, he lives aro...        NaN   \n",
      "\n",
      "  Unnamed: 3 Unnamed: 4  \n",
      "0        NaN        NaN  \n",
      "1        NaN        NaN  \n",
      "2        NaN        NaN  \n",
      "3        NaN        NaN  \n",
      "4        NaN        NaN  \n"
     ]
    },
    {
     "name": "stderr",
     "output_type": "stream",
     "text": [
      "Using TensorFlow backend.\n"
     ]
    },
    {
     "name": "stdout",
     "output_type": "stream",
     "text": [
      "import done\n"
     ]
    }
   ],
   "source": [
    "DATA_FILE = '../input/spam.csv'\n",
    "df = pd.read_csv(DATA_FILE,encoding='latin-1')\n",
    "print(df.head())\n",
    "\n",
    "tags = df.v1\n",
    "texts = df.v2\n",
    "from keras.models import Sequential\n",
    "from keras.layers import Dense, Dropout, Activation\n",
    "from keras.layers import Embedding\n",
    "from keras.layers import Conv1D, GlobalMaxPooling1D\n",
    "from keras.preprocessing.text import Tokenizer\n",
    "from keras.preprocessing import sequence\n",
    "from sklearn.preprocessing import LabelEncoder\n",
    "import time\n",
    "from keras import metrics\n",
    "print('import done')"
   ]
  },
  {
   "cell_type": "code",
   "execution_count": 3,
   "metadata": {
    "_cell_guid": "a6bf4566-ed56-7d41-f46c-e9b92c788bcc"
   },
   "outputs": [
    {
     "name": "stdout",
     "output_type": "stream",
     "text": [
      "[0 0 1 0 0]\n",
      "[[ 0.  0.  0. ...,  0.  0.  0.]\n",
      " [ 0.  0.  0. ...,  0.  0.  0.]\n",
      " [ 0.  0.  3. ...,  0.  0.  0.]\n",
      " [ 0.  0.  0. ...,  0.  0.  0.]\n",
      " [ 0.  1.  1. ...,  0.  0.  0.]]\n",
      "(5572,) (5572, 1000)\n"
     ]
    }
   ],
   "source": [
    "num_max = 1000\n",
    "# preprocess\n",
    "le = LabelEncoder()\n",
    "tags = le.fit_transform(tags)\n",
    "tok = Tokenizer(num_words=num_max)\n",
    "tok.fit_on_texts(texts)\n",
    "mat_texts = tok.texts_to_matrix(texts,mode='count')\n",
    "print(tags[:5])\n",
    "print(mat_texts[:5])\n",
    "print(tags.shape,mat_texts.shape)"
   ]
  },
  {
   "cell_type": "code",
   "execution_count": 4,
   "metadata": {
    "_cell_guid": "37a8025b-eeac-f70f-1768-a7d66dc7c210"
   },
   "outputs": [
    {
     "name": "stdout",
     "output_type": "stream",
     "text": [
      "_________________________________________________________________\n",
      "Layer (type)                 Output Shape              Param #   \n",
      "=================================================================\n",
      "dense_1 (Dense)              (None, 512)               512512    \n",
      "_________________________________________________________________\n",
      "dropout_1 (Dropout)          (None, 512)               0         \n",
      "_________________________________________________________________\n",
      "dense_2 (Dense)              (None, 256)               131328    \n",
      "_________________________________________________________________\n",
      "dropout_2 (Dropout)          (None, 256)               0         \n",
      "_________________________________________________________________\n",
      "dense_3 (Dense)              (None, 1)                 257       \n",
      "=================================================================\n",
      "Total params: 644,097\n",
      "Trainable params: 644,097\n",
      "Non-trainable params: 0\n",
      "_________________________________________________________________\n",
      "compile done\n"
     ]
    },
    {
     "name": "stderr",
     "output_type": "stream",
     "text": [
      "/opt/conda/lib/python3.6/site-packages/Keras-2.0.4-py3.6.egg/keras/backend/tensorflow_backend.py:2252: UserWarning: Expected no kwargs, you passed 1\n",
      "kwargs passed to function are ignored with Tensorflow backend\n",
      "  warnings.warn('\\n'.join(msg))\n"
     ]
    },
    {
     "name": "stdout",
     "output_type": "stream",
     "text": [
      "Train on 4457 samples, validate on 1115 samples\n",
      "Epoch 1/10\n",
      "4457/4457 [==============================] - 4s - loss: 0.1575 - acc: 0.9506 - binary_accuracy: 0.9506 - val_loss: 0.0600 - val_acc: 0.9883 - val_binary_accuracy: 0.9883\n",
      "Epoch 2/10\n",
      "4457/4457 [==============================] - 3s - loss: 0.0341 - acc: 0.9912 - binary_accuracy: 0.9912 - val_loss: 0.0735 - val_acc: 0.9865 - val_binary_accuracy: 0.9865\n",
      "Epoch 3/10\n",
      "4457/4457 [==============================] - 3s - loss: 0.0096 - acc: 0.9980 - binary_accuracy: 0.9980 - val_loss: 0.0722 - val_acc: 0.9857 - val_binary_accuracy: 0.9857\n",
      "Epoch 4/10\n",
      "4457/4457 [==============================] - 3s - loss: 0.0041 - acc: 0.9989 - binary_accuracy: 0.9989 - val_loss: 0.0903 - val_acc: 0.9857 - val_binary_accuracy: 0.9857\n",
      "Epoch 5/10\n",
      "4457/4457 [==============================] - 3s - loss: 0.0023 - acc: 0.9996 - binary_accuracy: 0.9996 - val_loss: 0.0946 - val_acc: 0.9865 - val_binary_accuracy: 0.9865\n",
      "Epoch 6/10\n",
      "4457/4457 [==============================] - 3s - loss: 0.0020 - acc: 0.9998 - binary_accuracy: 0.9998 - val_loss: 0.0984 - val_acc: 0.9857 - val_binary_accuracy: 0.9857\n",
      "Epoch 7/10\n",
      "4457/4457 [==============================] - 3s - loss: 0.0016 - acc: 0.9998 - binary_accuracy: 0.9998 - val_loss: 0.1031 - val_acc: 0.9857 - val_binary_accuracy: 0.9857\n",
      "Epoch 8/10\n",
      "4457/4457 [==============================] - 3s - loss: 0.0017 - acc: 0.9998 - binary_accuracy: 0.9998 - val_loss: 0.1053 - val_acc: 0.9848 - val_binary_accuracy: 0.9848\n",
      "Epoch 9/10\n",
      "4457/4457 [==============================] - 3s - loss: 0.0014 - acc: 0.9998 - binary_accuracy: 0.9998 - val_loss: 0.1121 - val_acc: 0.9857 - val_binary_accuracy: 0.9857\n",
      "Epoch 10/10\n",
      "4457/4457 [==============================] - 3s - loss: 0.0015 - acc: 0.9998 - binary_accuracy: 0.9998 - val_loss: 0.1139 - val_acc: 0.9848 - val_binary_accuracy: 0.9848\n"
     ]
    }
   ],
   "source": [
    "# try a simple model first\n",
    "\n",
    "def get_simple_model():\n",
    "    model = Sequential()\n",
    "    model.add(Dense(512, activation='relu', input_shape=(num_max,)))\n",
    "    model.add(Dropout(0.2))\n",
    "    model.add(Dense(256, activation='relu'))\n",
    "    model.add(Dropout(0.2))\n",
    "    model.add(Dense(1, activation='sigmoid'))\n",
    "    model.summary()\n",
    "    model.compile(loss='binary_crossentropy',\n",
    "              optimizer='adam',\n",
    "              metrics=['acc',metrics.binary_accuracy])\n",
    "    print('compile done')\n",
    "    return model\n",
    "\n",
    "def check_model(model,x,y):\n",
    "    model.fit(x,y,batch_size=32,epochs=10,verbose=1,validation_split=0.2)\n",
    "\n",
    "m = get_simple_model()\n",
    "check_model(m,mat_texts,tags)"
   ]
  },
  {
   "cell_type": "code",
   "execution_count": 5,
   "metadata": {
    "_cell_guid": "4f3ff2b6-ed23-076a-141d-25adbc4f8592"
   },
   "outputs": [
    {
     "name": "stdout",
     "output_type": "stream",
     "text": [
      "[50, 469, 841, 751, 657, 64, 8, 89, 121, 349, 147, 67, 58, 144]\n",
      "[  0   0   0   0   0   0   0   0   0   0   0   0   0   0   0   0   0   0\n",
      "   0   0   0   0   0   0   0   0   0   0   0   0   0   0   0   0   0   0\n",
      "   0   0   0   0   0   0   0   0   0   0   0   0   0   0   0   0   0   0\n",
      "   0   0   0   0   0   0   0   0   0   0   0   0   0   0   0   0   0   0\n",
      "   0   0   0   0   0   0   0   0   0   0   0   0   0   0  50 469 841 751\n",
      " 657  64   8  89 121 349 147  67  58 144]\n",
      "(5572, 100)\n"
     ]
    }
   ],
   "source": [
    "# for cnn preproces\n",
    "max_len = 100\n",
    "cnn_texts_seq = tok.texts_to_sequences(texts)\n",
    "print(cnn_texts_seq[0])\n",
    "cnn_texts_mat = sequence.pad_sequences(cnn_texts_seq,maxlen=max_len)\n",
    "print(cnn_texts_mat[0])\n",
    "print(cnn_texts_mat.shape)"
   ]
  },
  {
   "cell_type": "code",
   "execution_count": 6,
   "metadata": {
    "_cell_guid": "e06c4200-569d-d9b0-b36c-8a8534157f01"
   },
   "outputs": [
    {
     "name": "stdout",
     "output_type": "stream",
     "text": [
      "_________________________________________________________________\n",
      "Layer (type)                 Output Shape              Param #   \n",
      "=================================================================\n",
      "embedding_1 (Embedding)      (None, 100, 20)           20000     \n",
      "_________________________________________________________________\n",
      "dropout_3 (Dropout)          (None, 100, 20)           0         \n",
      "_________________________________________________________________\n",
      "conv1d_1 (Conv1D)            (None, 98, 64)            3904      \n",
      "_________________________________________________________________\n",
      "global_max_pooling1d_1 (Glob (None, 64)                0         \n",
      "_________________________________________________________________\n",
      "dense_4 (Dense)              (None, 256)               16640     \n",
      "_________________________________________________________________\n",
      "dropout_4 (Dropout)          (None, 256)               0         \n",
      "_________________________________________________________________\n",
      "activation_1 (Activation)    (None, 256)               0         \n",
      "_________________________________________________________________\n",
      "dense_5 (Dense)              (None, 1)                 257       \n",
      "_________________________________________________________________\n",
      "activation_2 (Activation)    (None, 1)                 0         \n",
      "=================================================================\n",
      "Total params: 40,801\n",
      "Trainable params: 40,801\n",
      "Non-trainable params: 0\n",
      "_________________________________________________________________\n"
     ]
    },
    {
     "name": "stderr",
     "output_type": "stream",
     "text": [
      "/opt/conda/lib/python3.6/site-packages/Keras-2.0.4-py3.6.egg/keras/backend/tensorflow_backend.py:2252: UserWarning: Expected no kwargs, you passed 1\n",
      "kwargs passed to function are ignored with Tensorflow backend\n",
      "  warnings.warn('\\n'.join(msg))\n"
     ]
    },
    {
     "name": "stdout",
     "output_type": "stream",
     "text": [
      "Train on 4457 samples, validate on 1115 samples\n",
      "Epoch 1/10\n",
      "4457/4457 [==============================] - 4s - loss: 0.3981 - acc: 0.8649 - binary_accuracy: 0.8649 - val_loss: 0.2687 - val_acc: 0.8700 - val_binary_accuracy: 0.8700\n",
      "Epoch 2/10\n",
      "4457/4457 [==============================] - 4s - loss: 0.1740 - acc: 0.9336 - binary_accuracy: 0.9336 - val_loss: 0.0694 - val_acc: 0.9785 - val_binary_accuracy: 0.9785\n",
      "Epoch 3/10\n",
      "4457/4457 [==============================] - 4s - loss: 0.0508 - acc: 0.9863 - binary_accuracy: 0.9863 - val_loss: 0.0496 - val_acc: 0.9821 - val_binary_accuracy: 0.9821\n",
      "Epoch 4/10\n",
      "4457/4457 [==============================] - 4s - loss: 0.0302 - acc: 0.9933 - binary_accuracy: 0.9933 - val_loss: 0.0536 - val_acc: 0.9839 - val_binary_accuracy: 0.9839\n",
      "Epoch 5/10\n",
      "4457/4457 [==============================] - 4s - loss: 0.0227 - acc: 0.9942 - binary_accuracy: 0.9942 - val_loss: 0.0575 - val_acc: 0.9857 - val_binary_accuracy: 0.9857\n",
      "Epoch 6/10\n",
      "4457/4457 [==============================] - 5s - loss: 0.0163 - acc: 0.9955 - binary_accuracy: 0.9955 - val_loss: 0.0595 - val_acc: 0.9812 - val_binary_accuracy: 0.9812\n",
      "Epoch 7/10\n",
      "4457/4457 [==============================] - 4s - loss: 0.0129 - acc: 0.9960 - binary_accuracy: 0.9960 - val_loss: 0.0674 - val_acc: 0.9830 - val_binary_accuracy: 0.9830\n",
      "Epoch 8/10\n",
      "4457/4457 [==============================] - 4s - loss: 0.0114 - acc: 0.9966 - binary_accuracy: 0.9966 - val_loss: 0.0759 - val_acc: 0.9803 - val_binary_accuracy: 0.9803\n",
      "Epoch 9/10\n",
      "4457/4457 [==============================] - 4s - loss: 0.0098 - acc: 0.9975 - binary_accuracy: 0.9975 - val_loss: 0.0770 - val_acc: 0.9812 - val_binary_accuracy: 0.9812\n",
      "Epoch 10/10\n",
      "4457/4457 [==============================] - 4s - loss: 0.0077 - acc: 0.9980 - binary_accuracy: 0.9980 - val_loss: 0.0802 - val_acc: 0.9812 - val_binary_accuracy: 0.9812\n"
     ]
    }
   ],
   "source": [
    "def get_cnn_model_v1():   \n",
    "    model = Sequential()\n",
    "    # we start off with an efficient embedding layer which maps\n",
    "    # our vocab indices into embedding_dims dimensions\n",
    "    # 1000 is num_max\n",
    "    model.add(Embedding(1000,\n",
    "                        20,\n",
    "                        input_length=max_len))\n",
    "    model.add(Dropout(0.2))\n",
    "    model.add(Conv1D(64,\n",
    "                     3,\n",
    "                     padding='valid',\n",
    "                     activation='relu',\n",
    "                     strides=1))\n",
    "    model.add(GlobalMaxPooling1D())\n",
    "    model.add(Dense(256))\n",
    "    model.add(Dropout(0.2))\n",
    "    model.add(Activation('relu'))\n",
    "    model.add(Dense(1))\n",
    "    model.add(Activation('sigmoid'))\n",
    "    model.summary()\n",
    "    model.compile(loss='binary_crossentropy',\n",
    "                  optimizer='adam',\n",
    "                  metrics=['acc',metrics.binary_accuracy])\n",
    "    return model\n",
    "\n",
    "m = get_cnn_model_v1()\n",
    "check_model(m,cnn_texts_mat,tags)"
   ]
  },
  {
   "cell_type": "code",
   "execution_count": 7,
   "metadata": {
    "_cell_guid": "6578767b-e047-1b6d-c128-3e2e4e3e2414"
   },
   "outputs": [
    {
     "name": "stdout",
     "output_type": "stream",
     "text": [
      "_________________________________________________________________\n",
      "Layer (type)                 Output Shape              Param #   \n",
      "=================================================================\n",
      "embedding_2 (Embedding)      (None, 100, 50)           50000     \n",
      "_________________________________________________________________\n",
      "dropout_5 (Dropout)          (None, 100, 50)           0         \n",
      "_________________________________________________________________\n",
      "conv1d_2 (Conv1D)            (None, 98, 64)            9664      \n",
      "_________________________________________________________________\n",
      "global_max_pooling1d_2 (Glob (None, 64)                0         \n",
      "_________________________________________________________________\n",
      "dense_6 (Dense)              (None, 256)               16640     \n",
      "_________________________________________________________________\n",
      "dropout_6 (Dropout)          (None, 256)               0         \n",
      "_________________________________________________________________\n",
      "activation_3 (Activation)    (None, 256)               0         \n",
      "_________________________________________________________________\n",
      "dense_7 (Dense)              (None, 1)                 257       \n",
      "_________________________________________________________________\n",
      "activation_4 (Activation)    (None, 1)                 0         \n",
      "=================================================================\n",
      "Total params: 76,561\n",
      "Trainable params: 76,561\n",
      "Non-trainable params: 0\n",
      "_________________________________________________________________\n"
     ]
    },
    {
     "name": "stderr",
     "output_type": "stream",
     "text": [
      "/opt/conda/lib/python3.6/site-packages/Keras-2.0.4-py3.6.egg/keras/backend/tensorflow_backend.py:2252: UserWarning: Expected no kwargs, you passed 1\n",
      "kwargs passed to function are ignored with Tensorflow backend\n",
      "  warnings.warn('\\n'.join(msg))\n"
     ]
    },
    {
     "name": "stdout",
     "output_type": "stream",
     "text": [
      "Train on 4457 samples, validate on 1115 samples\n",
      "Epoch 1/10\n",
      "4457/4457 [==============================] - 6s - loss: 0.3709 - acc: 0.8613 - binary_accuracy: 0.8613 - val_loss: 0.2361 - val_acc: 0.8700 - val_binary_accuracy: 0.8700\n",
      "Epoch 2/10\n",
      "4457/4457 [==============================] - 6s - loss: 0.1858 - acc: 0.9217 - binary_accuracy: 0.9217 - val_loss: 0.0657 - val_acc: 0.9830 - val_binary_accuracy: 0.9830\n",
      "Epoch 3/10\n",
      "4457/4457 [==============================] - 6s - loss: 0.0493 - acc: 0.9872 - binary_accuracy: 0.9872 - val_loss: 0.0481 - val_acc: 0.9830 - val_binary_accuracy: 0.9830\n",
      "Epoch 4/10\n",
      "4457/4457 [==============================] - 6s - loss: 0.0282 - acc: 0.9930 - binary_accuracy: 0.9930 - val_loss: 0.0524 - val_acc: 0.9874 - val_binary_accuracy: 0.9874\n",
      "Epoch 5/10\n",
      "4457/4457 [==============================] - 6s - loss: 0.0185 - acc: 0.9955 - binary_accuracy: 0.9955 - val_loss: 0.0552 - val_acc: 0.9857 - val_binary_accuracy: 0.9857\n",
      "Epoch 6/10\n",
      "4457/4457 [==============================] - 6s - loss: 0.0160 - acc: 0.9962 - binary_accuracy: 0.9962 - val_loss: 0.0563 - val_acc: 0.9857 - val_binary_accuracy: 0.9857\n",
      "Epoch 7/10\n",
      "4457/4457 [==============================] - 6s - loss: 0.0099 - acc: 0.9969 - binary_accuracy: 0.9969 - val_loss: 0.0653 - val_acc: 0.9865 - val_binary_accuracy: 0.9865\n",
      "Epoch 8/10\n",
      "4457/4457 [==============================] - 6s - loss: 0.0082 - acc: 0.9982 - binary_accuracy: 0.9982 - val_loss: 0.0868 - val_acc: 0.9758 - val_binary_accuracy: 0.9758\n",
      "Epoch 9/10\n",
      "4457/4457 [==============================] - 6s - loss: 0.0065 - acc: 0.9987 - binary_accuracy: 0.9987 - val_loss: 0.0748 - val_acc: 0.9830 - val_binary_accuracy: 0.9830\n",
      "Epoch 10/10\n",
      "4457/4457 [==============================] - 6s - loss: 0.0052 - acc: 0.9989 - binary_accuracy: 0.9989 - val_loss: 0.0772 - val_acc: 0.9839 - val_binary_accuracy: 0.9839\n"
     ]
    }
   ],
   "source": [
    "def get_cnn_model_v2(): # added embed   \n",
    "    model = Sequential()\n",
    "    # we start off with an efficient embedding layer which maps\n",
    "    # our vocab indices into embedding_dims dimensions\n",
    "    # 1000 is num_max\n",
    "    model.add(Embedding(1000,\n",
    "                        50, #!!!!!!!!!!!!!!!!!!!!!!!\n",
    "                        input_length=max_len))\n",
    "    model.add(Dropout(0.2))\n",
    "    model.add(Conv1D(64,\n",
    "                     3,\n",
    "                     padding='valid',\n",
    "                     activation='relu',\n",
    "                     strides=1))\n",
    "    model.add(GlobalMaxPooling1D())\n",
    "    model.add(Dense(256))\n",
    "    model.add(Dropout(0.2))\n",
    "    model.add(Activation('relu'))\n",
    "    model.add(Dense(1))\n",
    "    model.add(Activation('sigmoid'))\n",
    "    model.summary()\n",
    "    model.compile(loss='binary_crossentropy',\n",
    "                  optimizer='adam',\n",
    "                  metrics=['acc',metrics.binary_accuracy])\n",
    "    return model\n",
    "\n",
    "m = get_cnn_model_v2()\n",
    "check_model(m,cnn_texts_mat,tags)"
   ]
  },
  {
   "cell_type": "code",
   "execution_count": 8,
   "metadata": {
    "_cell_guid": "d1a65f27-c61e-13db-49ff-7cf816b70fa1"
   },
   "outputs": [
    {
     "name": "stdout",
     "output_type": "stream",
     "text": [
      "_________________________________________________________________\n",
      "Layer (type)                 Output Shape              Param #   \n",
      "=================================================================\n",
      "embedding_3 (Embedding)      (None, 100, 20)           20000     \n",
      "_________________________________________________________________\n",
      "dropout_7 (Dropout)          (None, 100, 20)           0         \n",
      "_________________________________________________________________\n",
      "conv1d_3 (Conv1D)            (None, 98, 256)           15616     \n",
      "_________________________________________________________________\n",
      "global_max_pooling1d_3 (Glob (None, 256)               0         \n",
      "_________________________________________________________________\n",
      "dense_8 (Dense)              (None, 256)               65792     \n",
      "_________________________________________________________________\n",
      "dropout_8 (Dropout)          (None, 256)               0         \n",
      "_________________________________________________________________\n",
      "activation_5 (Activation)    (None, 256)               0         \n",
      "_________________________________________________________________\n",
      "dense_9 (Dense)              (None, 1)                 257       \n",
      "_________________________________________________________________\n",
      "activation_6 (Activation)    (None, 1)                 0         \n",
      "=================================================================\n",
      "Total params: 101,665\n",
      "Trainable params: 101,665\n",
      "Non-trainable params: 0\n",
      "_________________________________________________________________\n"
     ]
    },
    {
     "name": "stderr",
     "output_type": "stream",
     "text": [
      "/opt/conda/lib/python3.6/site-packages/Keras-2.0.4-py3.6.egg/keras/backend/tensorflow_backend.py:2252: UserWarning: Expected no kwargs, you passed 1\n",
      "kwargs passed to function are ignored with Tensorflow backend\n",
      "  warnings.warn('\\n'.join(msg))\n"
     ]
    },
    {
     "name": "stdout",
     "output_type": "stream",
     "text": [
      "Train on 4457 samples, validate on 1115 samples\n",
      "Epoch 1/10\n",
      "4457/4457 [==============================] - 15s - loss: 0.3615 - acc: 0.8638 - binary_accuracy: 0.8638 - val_loss: 0.2385 - val_acc: 0.8700 - val_binary_accuracy: 0.8700\n",
      "Epoch 2/10\n",
      "4457/4457 [==============================] - 15s - loss: 0.2024 - acc: 0.9165 - binary_accuracy: 0.9165 - val_loss: 0.1460 - val_acc: 0.9426 - val_binary_accuracy: 0.9426\n",
      "Epoch 3/10\n",
      "4457/4457 [==============================] - 16s - loss: 0.0643 - acc: 0.9832 - binary_accuracy: 0.9832 - val_loss: 0.0425 - val_acc: 0.9857 - val_binary_accuracy: 0.9857\n",
      "Epoch 4/10\n",
      "4457/4457 [==============================] - 15s - loss: 0.0330 - acc: 0.9908 - binary_accuracy: 0.9908 - val_loss: 0.0518 - val_acc: 0.9830 - val_binary_accuracy: 0.9830\n",
      "Epoch 5/10\n",
      "4457/4457 [==============================] - 16s - loss: 0.0233 - acc: 0.9942 - binary_accuracy: 0.9942 - val_loss: 0.0478 - val_acc: 0.9857 - val_binary_accuracy: 0.9857\n",
      "Epoch 6/10\n",
      "4457/4457 [==============================] - 15s - loss: 0.0142 - acc: 0.9962 - binary_accuracy: 0.9962 - val_loss: 0.0498 - val_acc: 0.9857 - val_binary_accuracy: 0.9857\n",
      "Epoch 7/10\n",
      "4457/4457 [==============================] - 15s - loss: 0.0112 - acc: 0.9973 - binary_accuracy: 0.9973 - val_loss: 0.0646 - val_acc: 0.9830 - val_binary_accuracy: 0.9830\n",
      "Epoch 8/10\n",
      "4457/4457 [==============================] - 15s - loss: 0.0110 - acc: 0.9964 - binary_accuracy: 0.9964 - val_loss: 0.0631 - val_acc: 0.9857 - val_binary_accuracy: 0.9857\n",
      "Epoch 9/10\n",
      "4457/4457 [==============================] - 15s - loss: 0.0077 - acc: 0.9982 - binary_accuracy: 0.9982 - val_loss: 0.0728 - val_acc: 0.9830 - val_binary_accuracy: 0.9830\n",
      "Epoch 10/10\n",
      "4457/4457 [==============================] - 15s - loss: 0.0067 - acc: 0.9980 - binary_accuracy: 0.9980 - val_loss: 0.0744 - val_acc: 0.9839 - val_binary_accuracy: 0.9839\n"
     ]
    }
   ],
   "source": [
    "def get_cnn_model_v3():    # added filter\n",
    "    model = Sequential()\n",
    "    # we start off with an efficient embedding layer which maps\n",
    "    # our vocab indices into embedding_dims dimensions\n",
    "    # 1000 is num_max\n",
    "    model.add(Embedding(1000,\n",
    "                        20,\n",
    "                        input_length=max_len))\n",
    "    model.add(Dropout(0.2))\n",
    "    model.add(Conv1D(256, #!!!!!!!!!!!!!!!!!!!\n",
    "                     3,\n",
    "                     padding='valid',\n",
    "                     activation='relu',\n",
    "                     strides=1))\n",
    "    model.add(GlobalMaxPooling1D())\n",
    "    model.add(Dense(256))\n",
    "    model.add(Dropout(0.2))\n",
    "    model.add(Activation('relu'))\n",
    "    model.add(Dense(1))\n",
    "    model.add(Activation('sigmoid'))\n",
    "    model.summary()\n",
    "    model.compile(loss='binary_crossentropy',\n",
    "                  optimizer='adam',\n",
    "                  metrics=['acc',metrics.binary_accuracy])\n",
    "    return model\n",
    "\n",
    "m = get_cnn_model_v3()\n",
    "check_model(m,cnn_texts_mat,tags)"
   ]
  }
 ],
 "metadata": {
  "_change_revision": 4,
  "_is_fork": false,
  "kernelspec": {
   "display_name": "Python 3",
   "language": "python",
   "name": "python3"
  },
  "language_info": {
   "codemirror_mode": {
    "name": "ipython",
    "version": 3
   },
   "file_extension": ".py",
   "mimetype": "text/x-python",
   "name": "python",
   "nbconvert_exporter": "python",
   "pygments_lexer": "ipython3",
   "version": "3.6.0"
  }
 },
 "nbformat": 4,
 "nbformat_minor": 0
}
