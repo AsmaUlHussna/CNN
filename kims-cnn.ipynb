{
 "cells": [
  {
   "cell_type": "markdown",
   "id": "gorgeous-rental",
   "metadata": {
    "papermill": {
     "duration": 0.016524,
     "end_time": "2021-05-03T00:21:22.343598",
     "exception": false,
     "start_time": "2021-05-03T00:21:22.327074",
     "status": "completed"
    },
    "tags": []
   },
   "source": [
    "# Kim's CNN for Fake News Classification\n",
    "\n",
    "**Apurv Jain**\n",
    "\n",
    "**2017KUCP1016**\n",
    "\n",
    "In 2014, Yoon Kim's Paper, [Convolutional Neural Networks for Sentence Classification](https://www.aclweb.org/anthology/D14-1181/), showed that CNNs can be used for text classification as well, and can even outperform some of the existing models. Although, Kim has discussed four different models, in this notebook, I have implemented one of the Kim's model, namely, **CNN non-static** model, but with a few changes. \n",
    "\n",
    "As done for the original model, I have formed Word2Vec CBOW embeddings of 300D (300 dimensions) using **gensim**. Unknown words have been randomly initialized, and vectors can be fine-tuned while training the model. \n",
    "\n",
    "In the original model, he applied convolutions on these 2D representations, with different window sizes of 3,4 and 5 with 100 feature maps each; and then performed max pooling on each convolution layer, after concatenation of layers and flattening, followed by a dropout layer (drouput rate 0.5), before the final output layer. He used l2 contraint of 3 in the convolution layer and a mini-batch  size of 50. Also, he used the Adadelta optimizer with 10% of training data as testing set.\n",
    "\n",
    "**How this implementation differs from the original non-static model**\n",
    "\n",
    "I have used covolutions of sizes 2, 3, 4, 5 and 6 to increase the accuracy of the model. For this, I have generated Word2Vec embeddings with context size 6. Since the task for this assignment was to apply Kim's CNN for Fake News Classification, I have used the [Fake News Dataset](https://www.kaggle.com/c/fake-news/data?select=train.csv). Because of the constraint on processing power, I have used mini-batch size of 16 for training the model."
   ]
  },
  {
   "cell_type": "code",
   "execution_count": 1,
   "id": "willing-vault",
   "metadata": {
    "execution": {
     "iopub.execute_input": "2021-05-03T00:21:22.380886Z",
     "iopub.status.busy": "2021-05-03T00:21:22.379345Z",
     "iopub.status.idle": "2021-05-03T00:21:29.088210Z",
     "shell.execute_reply": "2021-05-03T00:21:29.089477Z"
    },
    "papermill": {
     "duration": 6.7305,
     "end_time": "2021-05-03T00:21:29.089890",
     "exception": false,
     "start_time": "2021-05-03T00:21:22.359390",
     "status": "completed"
    },
    "tags": []
   },
   "outputs": [
    {
     "name": "stdout",
     "output_type": "stream",
     "text": [
      "[nltk_data] Downloading package stopwords to /usr/share/nltk_data...\n",
      "[nltk_data]   Package stopwords is already up-to-date!\n"
     ]
    }
   ],
   "source": [
    "# importing required libraries\n",
    "import numpy as np\n",
    "import pandas as pd\n",
    "\n",
    "from sklearn.metrics import confusion_matrix, accuracy_score\n",
    "from sklearn.model_selection import train_test_split\n",
    "\n",
    "from keras.preprocessing.text import Tokenizer\n",
    "from keras.preprocessing.sequence import pad_sequences\n",
    "from keras import regularizers\n",
    "from keras.models import Model\n",
    "from keras.layers import *\n",
    "from keras.utils.np_utils import to_categorical\n",
    "import re\n",
    "\n",
    "import nltk\n",
    "nltk.download('stopwords')\n",
    "from nltk.corpus import stopwords\n",
    "\n",
    "from gensim.models import KeyedVectors\n",
    "\n",
    "import matplotlib.pyplot as plt\n",
    "%matplotlib inline"
   ]
  },
  {
   "cell_type": "code",
   "execution_count": 2,
   "id": "armed-kansas",
   "metadata": {
    "execution": {
     "iopub.execute_input": "2021-05-03T00:21:29.152033Z",
     "iopub.status.busy": "2021-05-03T00:21:29.151216Z",
     "iopub.status.idle": "2021-05-03T00:21:31.032818Z",
     "shell.execute_reply": "2021-05-03T00:21:31.032393Z"
    },
    "papermill": {
     "duration": 1.914885,
     "end_time": "2021-05-03T00:21:31.032939",
     "exception": false,
     "start_time": "2021-05-03T00:21:29.118054",
     "status": "completed"
    },
    "tags": []
   },
   "outputs": [
    {
     "data": {
      "text/html": [
       "<div>\n",
       "<style scoped>\n",
       "    .dataframe tbody tr th:only-of-type {\n",
       "        vertical-align: middle;\n",
       "    }\n",
       "\n",
       "    .dataframe tbody tr th {\n",
       "        vertical-align: top;\n",
       "    }\n",
       "\n",
       "    .dataframe thead th {\n",
       "        text-align: right;\n",
       "    }\n",
       "</style>\n",
       "<table border=\"1\" class=\"dataframe\">\n",
       "  <thead>\n",
       "    <tr style=\"text-align: right;\">\n",
       "      <th></th>\n",
       "      <th>title</th>\n",
       "      <th>author</th>\n",
       "      <th>text</th>\n",
       "      <th>label</th>\n",
       "    </tr>\n",
       "    <tr>\n",
       "      <th>id</th>\n",
       "      <th></th>\n",
       "      <th></th>\n",
       "      <th></th>\n",
       "      <th></th>\n",
       "    </tr>\n",
       "  </thead>\n",
       "  <tbody>\n",
       "    <tr>\n",
       "      <th>0</th>\n",
       "      <td>House Dem Aide: We Didn’t Even See Comey’s Let...</td>\n",
       "      <td>Darrell Lucus</td>\n",
       "      <td>House Dem Aide: We Didn’t Even See Comey’s Let...</td>\n",
       "      <td>1</td>\n",
       "    </tr>\n",
       "    <tr>\n",
       "      <th>1</th>\n",
       "      <td>FLYNN: Hillary Clinton, Big Woman on Campus - ...</td>\n",
       "      <td>Daniel J. Flynn</td>\n",
       "      <td>Ever get the feeling your life circles the rou...</td>\n",
       "      <td>0</td>\n",
       "    </tr>\n",
       "    <tr>\n",
       "      <th>2</th>\n",
       "      <td>Why the Truth Might Get You Fired</td>\n",
       "      <td>Consortiumnews.com</td>\n",
       "      <td>Why the Truth Might Get You Fired October 29, ...</td>\n",
       "      <td>1</td>\n",
       "    </tr>\n",
       "    <tr>\n",
       "      <th>3</th>\n",
       "      <td>15 Civilians Killed In Single US Airstrike Hav...</td>\n",
       "      <td>Jessica Purkiss</td>\n",
       "      <td>Videos 15 Civilians Killed In Single US Airstr...</td>\n",
       "      <td>1</td>\n",
       "    </tr>\n",
       "    <tr>\n",
       "      <th>4</th>\n",
       "      <td>Iranian woman jailed for fictional unpublished...</td>\n",
       "      <td>Howard Portnoy</td>\n",
       "      <td>Print \\nAn Iranian woman has been sentenced to...</td>\n",
       "      <td>1</td>\n",
       "    </tr>\n",
       "  </tbody>\n",
       "</table>\n",
       "</div>"
      ],
      "text/plain": [
       "                                                title              author  \\\n",
       "id                                                                          \n",
       "0   House Dem Aide: We Didn’t Even See Comey’s Let...       Darrell Lucus   \n",
       "1   FLYNN: Hillary Clinton, Big Woman on Campus - ...     Daniel J. Flynn   \n",
       "2                   Why the Truth Might Get You Fired  Consortiumnews.com   \n",
       "3   15 Civilians Killed In Single US Airstrike Hav...     Jessica Purkiss   \n",
       "4   Iranian woman jailed for fictional unpublished...      Howard Portnoy   \n",
       "\n",
       "                                                 text  label  \n",
       "id                                                            \n",
       "0   House Dem Aide: We Didn’t Even See Comey’s Let...      1  \n",
       "1   Ever get the feeling your life circles the rou...      0  \n",
       "2   Why the Truth Might Get You Fired October 29, ...      1  \n",
       "3   Videos 15 Civilians Killed In Single US Airstr...      1  \n",
       "4   Print \\nAn Iranian woman has been sentenced to...      1  "
      ]
     },
     "execution_count": 2,
     "metadata": {},
     "output_type": "execute_result"
    }
   ],
   "source": [
    "# loading the dataset\n",
    "# df = pd.read_csv('train.csv', index_col = 0)\n",
    "df = pd.read_csv('../input/fake-news/train.csv', index_col = 0)\n",
    "df.head()"
   ]
  },
  {
   "cell_type": "code",
   "execution_count": 3,
   "id": "integrated-consistency",
   "metadata": {
    "execution": {
     "iopub.execute_input": "2021-05-03T00:21:31.077378Z",
     "iopub.status.busy": "2021-05-03T00:21:31.076708Z",
     "iopub.status.idle": "2021-05-03T00:21:31.080143Z",
     "shell.execute_reply": "2021-05-03T00:21:31.080581Z"
    },
    "papermill": {
     "duration": 0.030281,
     "end_time": "2021-05-03T00:21:31.080730",
     "exception": false,
     "start_time": "2021-05-03T00:21:31.050449",
     "status": "completed"
    },
    "tags": []
   },
   "outputs": [
    {
     "data": {
      "text/plain": [
       "True"
      ]
     },
     "execution_count": 3,
     "metadata": {},
     "output_type": "execute_result"
    }
   ],
   "source": [
    "# checking for null values\n",
    "df['title'].isnull().values.any()"
   ]
  },
  {
   "cell_type": "code",
   "execution_count": 4,
   "id": "false-tribe",
   "metadata": {
    "execution": {
     "iopub.execute_input": "2021-05-03T00:21:31.127284Z",
     "iopub.status.busy": "2021-05-03T00:21:31.126578Z",
     "iopub.status.idle": "2021-05-03T00:21:31.129869Z",
     "shell.execute_reply": "2021-05-03T00:21:31.130281Z"
    },
    "papermill": {
     "duration": 0.031104,
     "end_time": "2021-05-03T00:21:31.130433",
     "exception": false,
     "start_time": "2021-05-03T00:21:31.099329",
     "status": "completed"
    },
    "tags": []
   },
   "outputs": [
    {
     "data": {
      "text/plain": [
       "True"
      ]
     },
     "execution_count": 4,
     "metadata": {},
     "output_type": "execute_result"
    }
   ],
   "source": [
    "# checking for null values\n",
    "df['text'].isnull().values.any()"
   ]
  },
  {
   "cell_type": "code",
   "execution_count": 5,
   "id": "behavioral-wright",
   "metadata": {
    "execution": {
     "iopub.execute_input": "2021-05-03T00:21:31.318040Z",
     "iopub.status.busy": "2021-05-03T00:21:31.306920Z",
     "iopub.status.idle": "2021-05-03T00:21:31.321309Z",
     "shell.execute_reply": "2021-05-03T00:21:31.321828Z"
    },
    "papermill": {
     "duration": 0.17356,
     "end_time": "2021-05-03T00:21:31.321978",
     "exception": false,
     "start_time": "2021-05-03T00:21:31.148418",
     "status": "completed"
    },
    "tags": []
   },
   "outputs": [
    {
     "data": {
      "text/html": [
       "<div>\n",
       "<style scoped>\n",
       "    .dataframe tbody tr th:only-of-type {\n",
       "        vertical-align: middle;\n",
       "    }\n",
       "\n",
       "    .dataframe tbody tr th {\n",
       "        vertical-align: top;\n",
       "    }\n",
       "\n",
       "    .dataframe thead th {\n",
       "        text-align: right;\n",
       "    }\n",
       "</style>\n",
       "<table border=\"1\" class=\"dataframe\">\n",
       "  <thead>\n",
       "    <tr style=\"text-align: right;\">\n",
       "      <th></th>\n",
       "      <th>title</th>\n",
       "      <th>author</th>\n",
       "      <th>text</th>\n",
       "      <th>label</th>\n",
       "      <th>news</th>\n",
       "    </tr>\n",
       "    <tr>\n",
       "      <th>id</th>\n",
       "      <th></th>\n",
       "      <th></th>\n",
       "      <th></th>\n",
       "      <th></th>\n",
       "      <th></th>\n",
       "    </tr>\n",
       "  </thead>\n",
       "  <tbody>\n",
       "    <tr>\n",
       "      <th>0</th>\n",
       "      <td>House Dem Aide: We Didn’t Even See Comey’s Let...</td>\n",
       "      <td>Darrell Lucus</td>\n",
       "      <td>House Dem Aide: We Didn’t Even See Comey’s Let...</td>\n",
       "      <td>1</td>\n",
       "      <td>House Dem Aide: We Didn’t Even See Comey’s Let...</td>\n",
       "    </tr>\n",
       "    <tr>\n",
       "      <th>1</th>\n",
       "      <td>FLYNN: Hillary Clinton, Big Woman on Campus - ...</td>\n",
       "      <td>Daniel J. Flynn</td>\n",
       "      <td>Ever get the feeling your life circles the rou...</td>\n",
       "      <td>0</td>\n",
       "      <td>FLYNN: Hillary Clinton, Big Woman on Campus - ...</td>\n",
       "    </tr>\n",
       "    <tr>\n",
       "      <th>2</th>\n",
       "      <td>Why the Truth Might Get You Fired</td>\n",
       "      <td>Consortiumnews.com</td>\n",
       "      <td>Why the Truth Might Get You Fired October 29, ...</td>\n",
       "      <td>1</td>\n",
       "      <td>Why the Truth Might Get You Fired Why the Trut...</td>\n",
       "    </tr>\n",
       "    <tr>\n",
       "      <th>3</th>\n",
       "      <td>15 Civilians Killed In Single US Airstrike Hav...</td>\n",
       "      <td>Jessica Purkiss</td>\n",
       "      <td>Videos 15 Civilians Killed In Single US Airstr...</td>\n",
       "      <td>1</td>\n",
       "      <td>15 Civilians Killed In Single US Airstrike Hav...</td>\n",
       "    </tr>\n",
       "    <tr>\n",
       "      <th>4</th>\n",
       "      <td>Iranian woman jailed for fictional unpublished...</td>\n",
       "      <td>Howard Portnoy</td>\n",
       "      <td>Print \\nAn Iranian woman has been sentenced to...</td>\n",
       "      <td>1</td>\n",
       "      <td>Iranian woman jailed for fictional unpublished...</td>\n",
       "    </tr>\n",
       "  </tbody>\n",
       "</table>\n",
       "</div>"
      ],
      "text/plain": [
       "                                                title              author  \\\n",
       "id                                                                          \n",
       "0   House Dem Aide: We Didn’t Even See Comey’s Let...       Darrell Lucus   \n",
       "1   FLYNN: Hillary Clinton, Big Woman on Campus - ...     Daniel J. Flynn   \n",
       "2                   Why the Truth Might Get You Fired  Consortiumnews.com   \n",
       "3   15 Civilians Killed In Single US Airstrike Hav...     Jessica Purkiss   \n",
       "4   Iranian woman jailed for fictional unpublished...      Howard Portnoy   \n",
       "\n",
       "                                                 text  label  \\\n",
       "id                                                             \n",
       "0   House Dem Aide: We Didn’t Even See Comey’s Let...      1   \n",
       "1   Ever get the feeling your life circles the rou...      0   \n",
       "2   Why the Truth Might Get You Fired October 29, ...      1   \n",
       "3   Videos 15 Civilians Killed In Single US Airstr...      1   \n",
       "4   Print \\nAn Iranian woman has been sentenced to...      1   \n",
       "\n",
       "                                                 news  \n",
       "id                                                     \n",
       "0   House Dem Aide: We Didn’t Even See Comey’s Let...  \n",
       "1   FLYNN: Hillary Clinton, Big Woman on Campus - ...  \n",
       "2   Why the Truth Might Get You Fired Why the Trut...  \n",
       "3   15 Civilians Killed In Single US Airstrike Hav...  \n",
       "4   Iranian woman jailed for fictional unpublished...  "
      ]
     },
     "execution_count": 5,
     "metadata": {},
     "output_type": "execute_result"
    }
   ],
   "source": [
    "# concatinating the title and the text columns\n",
    "df['news'] = df['title'].fillna('').str.cat(df['text'].fillna(''), sep = \" \")\n",
    "df.head()"
   ]
  },
  {
   "cell_type": "code",
   "execution_count": 6,
   "id": "offensive-transparency",
   "metadata": {
    "execution": {
     "iopub.execute_input": "2021-05-03T00:21:31.365967Z",
     "iopub.status.busy": "2021-05-03T00:21:31.363346Z",
     "iopub.status.idle": "2021-05-03T00:21:31.378115Z",
     "shell.execute_reply": "2021-05-03T00:21:31.377627Z"
    },
    "papermill": {
     "duration": 0.036949,
     "end_time": "2021-05-03T00:21:31.378244",
     "exception": false,
     "start_time": "2021-05-03T00:21:31.341295",
     "status": "completed"
    },
    "tags": []
   },
   "outputs": [
    {
     "data": {
      "text/html": [
       "<div>\n",
       "<style scoped>\n",
       "    .dataframe tbody tr th:only-of-type {\n",
       "        vertical-align: middle;\n",
       "    }\n",
       "\n",
       "    .dataframe tbody tr th {\n",
       "        vertical-align: top;\n",
       "    }\n",
       "\n",
       "    .dataframe thead th {\n",
       "        text-align: right;\n",
       "    }\n",
       "</style>\n",
       "<table border=\"1\" class=\"dataframe\">\n",
       "  <thead>\n",
       "    <tr style=\"text-align: right;\">\n",
       "      <th></th>\n",
       "      <th>news</th>\n",
       "      <th>label</th>\n",
       "    </tr>\n",
       "    <tr>\n",
       "      <th>id</th>\n",
       "      <th></th>\n",
       "      <th></th>\n",
       "    </tr>\n",
       "  </thead>\n",
       "  <tbody>\n",
       "    <tr>\n",
       "      <th>0</th>\n",
       "      <td>House Dem Aide: We Didn’t Even See Comey’s Let...</td>\n",
       "      <td>1</td>\n",
       "    </tr>\n",
       "    <tr>\n",
       "      <th>1</th>\n",
       "      <td>FLYNN: Hillary Clinton, Big Woman on Campus - ...</td>\n",
       "      <td>0</td>\n",
       "    </tr>\n",
       "    <tr>\n",
       "      <th>2</th>\n",
       "      <td>Why the Truth Might Get You Fired Why the Trut...</td>\n",
       "      <td>1</td>\n",
       "    </tr>\n",
       "    <tr>\n",
       "      <th>3</th>\n",
       "      <td>15 Civilians Killed In Single US Airstrike Hav...</td>\n",
       "      <td>1</td>\n",
       "    </tr>\n",
       "    <tr>\n",
       "      <th>4</th>\n",
       "      <td>Iranian woman jailed for fictional unpublished...</td>\n",
       "      <td>1</td>\n",
       "    </tr>\n",
       "  </tbody>\n",
       "</table>\n",
       "</div>"
      ],
      "text/plain": [
       "                                                 news  label\n",
       "id                                                          \n",
       "0   House Dem Aide: We Didn’t Even See Comey’s Let...      1\n",
       "1   FLYNN: Hillary Clinton, Big Woman on Campus - ...      0\n",
       "2   Why the Truth Might Get You Fired Why the Trut...      1\n",
       "3   15 Civilians Killed In Single US Airstrike Hav...      1\n",
       "4   Iranian woman jailed for fictional unpublished...      1"
      ]
     },
     "execution_count": 6,
     "metadata": {},
     "output_type": "execute_result"
    }
   ],
   "source": [
    "# extracting the required columns\n",
    "df = df[['news', 'label']]\n",
    "df.head()"
   ]
  },
  {
   "cell_type": "code",
   "execution_count": 7,
   "id": "coupled-reform",
   "metadata": {
    "execution": {
     "iopub.execute_input": "2021-05-03T00:21:31.422268Z",
     "iopub.status.busy": "2021-05-03T00:21:31.421588Z",
     "iopub.status.idle": "2021-05-03T00:21:31.424669Z",
     "shell.execute_reply": "2021-05-03T00:21:31.425081Z"
    },
    "papermill": {
     "duration": 0.028272,
     "end_time": "2021-05-03T00:21:31.425213",
     "exception": false,
     "start_time": "2021-05-03T00:21:31.396941",
     "status": "completed"
    },
    "tags": []
   },
   "outputs": [],
   "source": [
    "# some helper functions for pre-processing the text\n",
    "def remove_urls(text):\n",
    "    \"\"\"For removing urls\"\"\"\n",
    "    url_remove = re.compile(r'https?://\\S+|www\\.\\S+')\n",
    "    return url_remove.sub(r'', text)\n",
    "\n",
    "def remove_html(text):\n",
    "    \"\"\"For removing html text\"\"\"\n",
    "    html = re.compile(r'<.*?>')\n",
    "    return html.sub(r'',text)\n",
    "\n",
    "def punct_remove(text):\n",
    "    \"\"\"For removing punctuations\"\"\"\n",
    "    punct = re.sub(r\"[^\\w\\s\\d]\",\"\", text)\n",
    "    return punct\n",
    "\n",
    "def remove_stopwords(text):\n",
    "    \"\"\"For removing stopwords\"\"\"\n",
    "    STOPWORDS = set(stopwords.words('english'))\n",
    "    return \" \".join([word for word in str(text).split() if word not in STOPWORDS])"
   ]
  },
  {
   "cell_type": "code",
   "execution_count": 8,
   "id": "antique-elite",
   "metadata": {
    "execution": {
     "iopub.execute_input": "2021-05-03T00:21:31.468639Z",
     "iopub.status.busy": "2021-05-03T00:21:31.468110Z",
     "iopub.status.idle": "2021-05-03T00:21:31.471551Z",
     "shell.execute_reply": "2021-05-03T00:21:31.472063Z"
    },
    "papermill": {
     "duration": 0.027712,
     "end_time": "2021-05-03T00:21:31.472193",
     "exception": false,
     "start_time": "2021-05-03T00:21:31.444481",
     "status": "completed"
    },
    "tags": []
   },
   "outputs": [],
   "source": [
    "# for cleaning or pre-processing the text\n",
    "def clean_text(text):\n",
    "    \n",
    "    # remove urls\n",
    "    new_text = remove_urls(text)\n",
    "    \n",
    "    # remove html text\n",
    "    new_text = remove_html(new_text)\n",
    "    \n",
    "    # remove punctuations\n",
    "    new_text = punct_remove(new_text)\n",
    "    \n",
    "    # lower casing the text\n",
    "    new_text = new_text.strip().lower()\n",
    "    \n",
    "    # remove stop words\n",
    "    new_text = remove_stopwords(new_text)\n",
    "    \n",
    "    return new_text"
   ]
  },
  {
   "cell_type": "code",
   "execution_count": 9,
   "id": "connected-damage",
   "metadata": {
    "execution": {
     "iopub.execute_input": "2021-05-03T00:21:31.519108Z",
     "iopub.status.busy": "2021-05-03T00:21:31.518492Z",
     "iopub.status.idle": "2021-05-03T00:21:44.486260Z",
     "shell.execute_reply": "2021-05-03T00:21:44.486700Z"
    },
    "papermill": {
     "duration": 12.994787,
     "end_time": "2021-05-03T00:21:44.486884",
     "exception": false,
     "start_time": "2021-05-03T00:21:31.492097",
     "status": "completed"
    },
    "tags": []
   },
   "outputs": [
    {
     "data": {
      "text/html": [
       "<div>\n",
       "<style scoped>\n",
       "    .dataframe tbody tr th:only-of-type {\n",
       "        vertical-align: middle;\n",
       "    }\n",
       "\n",
       "    .dataframe tbody tr th {\n",
       "        vertical-align: top;\n",
       "    }\n",
       "\n",
       "    .dataframe thead th {\n",
       "        text-align: right;\n",
       "    }\n",
       "</style>\n",
       "<table border=\"1\" class=\"dataframe\">\n",
       "  <thead>\n",
       "    <tr style=\"text-align: right;\">\n",
       "      <th></th>\n",
       "      <th>news</th>\n",
       "      <th>label</th>\n",
       "    </tr>\n",
       "    <tr>\n",
       "      <th>id</th>\n",
       "      <th></th>\n",
       "      <th></th>\n",
       "    </tr>\n",
       "  </thead>\n",
       "  <tbody>\n",
       "    <tr>\n",
       "      <th>0</th>\n",
       "      <td>house dem aide didnt even see comeys letter ja...</td>\n",
       "      <td>1</td>\n",
       "    </tr>\n",
       "    <tr>\n",
       "      <th>1</th>\n",
       "      <td>flynn hillary clinton big woman campus breitba...</td>\n",
       "      <td>0</td>\n",
       "    </tr>\n",
       "    <tr>\n",
       "      <th>2</th>\n",
       "      <td>truth might get fired truth might get fired oc...</td>\n",
       "      <td>1</td>\n",
       "    </tr>\n",
       "    <tr>\n",
       "      <th>3</th>\n",
       "      <td>15 civilians killed single us airstrike identi...</td>\n",
       "      <td>1</td>\n",
       "    </tr>\n",
       "    <tr>\n",
       "      <th>4</th>\n",
       "      <td>iranian woman jailed fictional unpublished sto...</td>\n",
       "      <td>1</td>\n",
       "    </tr>\n",
       "  </tbody>\n",
       "</table>\n",
       "</div>"
      ],
      "text/plain": [
       "                                                 news  label\n",
       "id                                                          \n",
       "0   house dem aide didnt even see comeys letter ja...      1\n",
       "1   flynn hillary clinton big woman campus breitba...      0\n",
       "2   truth might get fired truth might get fired oc...      1\n",
       "3   15 civilians killed single us airstrike identi...      1\n",
       "4   iranian woman jailed fictional unpublished sto...      1"
      ]
     },
     "execution_count": 9,
     "metadata": {},
     "output_type": "execute_result"
    }
   ],
   "source": [
    "# clean news text\n",
    "df['news'] = df['news'].apply(lambda x: clean_text(x))\n",
    "df.head()"
   ]
  },
  {
   "cell_type": "code",
   "execution_count": 10,
   "id": "tender-television",
   "metadata": {
    "execution": {
     "iopub.execute_input": "2021-05-03T00:21:44.530871Z",
     "iopub.status.busy": "2021-05-03T00:21:44.529992Z",
     "iopub.status.idle": "2021-05-03T00:21:44.536458Z",
     "shell.execute_reply": "2021-05-03T00:21:44.535994Z"
    },
    "papermill": {
     "duration": 0.029403,
     "end_time": "2021-05-03T00:21:44.536575",
     "exception": false,
     "start_time": "2021-05-03T00:21:44.507172",
     "status": "completed"
    },
    "tags": []
   },
   "outputs": [
    {
     "data": {
      "text/plain": [
       "1    10413\n",
       "0    10387\n",
       "Name: label, dtype: int64"
      ]
     },
     "execution_count": 10,
     "metadata": {},
     "output_type": "execute_result"
    }
   ],
   "source": [
    "# label counts\n",
    "df.label.value_counts()"
   ]
  },
  {
   "cell_type": "code",
   "execution_count": 11,
   "id": "respiratory-intersection",
   "metadata": {
    "execution": {
     "iopub.execute_input": "2021-05-03T00:21:44.601817Z",
     "iopub.status.busy": "2021-05-03T00:21:44.596578Z",
     "iopub.status.idle": "2021-05-03T00:21:45.100222Z",
     "shell.execute_reply": "2021-05-03T00:21:45.099459Z"
    },
    "papermill": {
     "duration": 0.543424,
     "end_time": "2021-05-03T00:21:45.100399",
     "exception": false,
     "start_time": "2021-05-03T00:21:44.556975",
     "status": "completed"
    },
    "tags": []
   },
   "outputs": [
    {
     "name": "stdout",
     "output_type": "stream",
     "text": [
      "Max length of a sentence in the corpus: 20731\n"
     ]
    }
   ],
   "source": [
    "# maximun length of a sentence in the corpus\n",
    "max_len = (df['news'].apply(lambda x: len(x.split(' ')))).max()\n",
    "print('Max length of a sentence in the corpus: ' + str(max_len))"
   ]
  },
  {
   "cell_type": "code",
   "execution_count": 12,
   "id": "professional-screen",
   "metadata": {
    "execution": {
     "iopub.execute_input": "2021-05-03T00:21:45.189837Z",
     "iopub.status.busy": "2021-05-03T00:21:45.163739Z",
     "iopub.status.idle": "2021-05-03T00:22:02.905620Z",
     "shell.execute_reply": "2021-05-03T00:22:02.905127Z"
    },
    "papermill": {
     "duration": 17.782515,
     "end_time": "2021-05-03T00:22:02.905757",
     "exception": false,
     "start_time": "2021-05-03T00:21:45.123242",
     "status": "completed"
    },
    "tags": []
   },
   "outputs": [],
   "source": [
    "# tokenizing the text\n",
    "tokenizer = Tokenizer()\n",
    "tokenizer.fit_on_texts(df.news)\n",
    "X = tokenizer.texts_to_sequences(df.news.values)\n",
    "\n",
    "# Adding 1 because of reserved 0 index\n",
    "vocab_size = len(tokenizer.word_index) + 1\n",
    "\n",
    "# padding sequences with zeroes\n",
    "X = pad_sequences(X, padding = 'post', maxlen = max_len)\n",
    "\n",
    "# one hot encoding the labels\n",
    "y = to_categorical(df.label)"
   ]
  },
  {
   "cell_type": "code",
   "execution_count": 13,
   "id": "retired-restriction",
   "metadata": {
    "execution": {
     "iopub.execute_input": "2021-05-03T00:22:02.953960Z",
     "iopub.status.busy": "2021-05-03T00:22:02.952751Z",
     "iopub.status.idle": "2021-05-03T00:22:03.459452Z",
     "shell.execute_reply": "2021-05-03T00:22:03.460169Z"
    },
    "papermill": {
     "duration": 0.533459,
     "end_time": "2021-05-03T00:22:03.460366",
     "exception": false,
     "start_time": "2021-05-03T00:22:02.926907",
     "status": "completed"
    },
    "tags": []
   },
   "outputs": [
    {
     "name": "stdout",
     "output_type": "stream",
     "text": [
      "Size of Training data: 18720\n",
      "Size of Testing data: 2080\n"
     ]
    }
   ],
   "source": [
    "# splitting the dataset for training and testing (keeping the test size 10% as suggested by Kim)\n",
    "X_train, X_test, y_train, y_test = train_test_split(X, y, test_size = 0.1)\n",
    "print(\"Size of Training data: \" + str(len(X_train)))\n",
    "print(\"Size of Testing data: \" + str(len(X_test)))"
   ]
  },
  {
   "cell_type": "markdown",
   "id": "green-bibliography",
   "metadata": {
    "papermill": {
     "duration": 0.020628,
     "end_time": "2021-05-03T00:22:03.502888",
     "exception": false,
     "start_time": "2021-05-03T00:22:03.482260",
     "status": "completed"
    },
    "tags": []
   },
   "source": [
    "The next cell includes code for generating the Word2Vec 300D CBOW embeddings. \n",
    "Since, the gensim version has been updated from 3.x to 4.x in 2021, there have been some changes introduced from the earlier version. Here, I have provided code for both the versions, as per the requirement, on whichever platform this code is run. (As of at the time of the implementation, Kaggle is using the latest version 4.x, while Google Colab is using verison 3.x)"
   ]
  },
  {
   "cell_type": "code",
   "execution_count": 14,
   "id": "gentle-consultation",
   "metadata": {
    "_kg_hide-input": true,
    "execution": {
     "iopub.execute_input": "2021-05-03T00:22:03.548912Z",
     "iopub.status.busy": "2021-05-03T00:22:03.548142Z",
     "iopub.status.idle": "2021-05-03T00:22:03.551103Z",
     "shell.execute_reply": "2021-05-03T00:22:03.550658Z"
    },
    "papermill": {
     "duration": 0.027894,
     "end_time": "2021-05-03T00:22:03.551222",
     "exception": false,
     "start_time": "2021-05-03T00:22:03.523328",
     "status": "completed"
    },
    "tags": []
   },
   "outputs": [],
   "source": [
    "# # importing required libraries\n",
    "# from gensim.utils import simple_preprocess\n",
    "# from gensim.models import Word2Vec\n",
    "\n",
    "# # for generating word2vec embeddings\n",
    "# tokenized_text = [simple_preprocess(text, deacc=True) for text in df.news]\n",
    "\n",
    "# # CBOW model (sg = 0)\n",
    "# # Embedding Dimensions\n",
    "# size = 300\n",
    "# # Context Window\n",
    "# window = 6\n",
    "# # Min count of words\n",
    "# min_count = 1\n",
    "# # CBOW\n",
    "# sg = 0\n",
    "\n",
    "# # for gensim 4.x\n",
    "# w2v_model = Word2Vec(tokenized_text, vector_size = size, window = window, min_count = min_count, sg = sg)\n",
    "\n",
    "# # for gensim 3.x\n",
    "# w2v_model = Word2Vec(tokenized_text, size = size, window = window, min_count = min_count, sg = sg)\n",
    "\n",
    "# word2vec_model_file = 'word2vec_cbow_' + str(window) + '_' + str(size) + '.model'\n",
    "# w2v_model.save(word2vec_model_file)"
   ]
  },
  {
   "cell_type": "code",
   "execution_count": 15,
   "id": "vital-tennessee",
   "metadata": {
    "execution": {
     "iopub.execute_input": "2021-05-03T00:22:03.596351Z",
     "iopub.status.busy": "2021-05-03T00:22:03.595854Z",
     "iopub.status.idle": "2021-05-03T00:22:14.081773Z",
     "shell.execute_reply": "2021-05-03T00:22:14.081301Z"
    },
    "papermill": {
     "duration": 10.509934,
     "end_time": "2021-05-03T00:22:14.081947",
     "exception": false,
     "start_time": "2021-05-03T00:22:03.572013",
     "status": "completed"
    },
    "tags": []
   },
   "outputs": [],
   "source": [
    "# loading word2vec cbow embeddings\n",
    "\n",
    "model_cbow = KeyedVectors.load('../input/word2vec-cbow-300model/word2vec_cbow_6_300.model')"
   ]
  },
  {
   "cell_type": "code",
   "execution_count": 16,
   "id": "cultural-spider",
   "metadata": {
    "execution": {
     "iopub.execute_input": "2021-05-03T00:22:14.143986Z",
     "iopub.status.busy": "2021-05-03T00:22:14.138867Z",
     "iopub.status.idle": "2021-05-03T00:22:14.548105Z",
     "shell.execute_reply": "2021-05-03T00:22:14.547586Z"
    },
    "papermill": {
     "duration": 0.444262,
     "end_time": "2021-05-03T00:22:14.548244",
     "exception": false,
     "start_time": "2021-05-03T00:22:14.103982",
     "status": "completed"
    },
    "tags": []
   },
   "outputs": [],
   "source": [
    "# embedding index\n",
    "\n",
    "embeddings_index = {}\n",
    "\n",
    "# for gensim 4.x\n",
    "for w in (model_cbow.wv.key_to_index).keys():\n",
    "    embeddings_index[w] = model_cbow.wv[w]\n",
    "    \n",
    "# for gensim 3.x\n",
    "# for w in model_cbow.wv.vocab.keys():\n",
    "#     embeddings_index[w] = model_cbow.wv[w]"
   ]
  },
  {
   "cell_type": "code",
   "execution_count": 17,
   "id": "harmful-sterling",
   "metadata": {
    "execution": {
     "iopub.execute_input": "2021-05-03T00:22:14.596372Z",
     "iopub.status.busy": "2021-05-03T00:22:14.595758Z",
     "iopub.status.idle": "2021-05-03T00:22:14.599152Z",
     "shell.execute_reply": "2021-05-03T00:22:14.599816Z"
    },
    "papermill": {
     "duration": 0.029765,
     "end_time": "2021-05-03T00:22:14.600023",
     "exception": false,
     "start_time": "2021-05-03T00:22:14.570258",
     "status": "completed"
    },
    "tags": []
   },
   "outputs": [
    {
     "name": "stdout",
     "output_type": "stream",
     "text": [
      "Number of word vectors: 197135\n",
      "Number of unique tokens: 213352\n"
     ]
    }
   ],
   "source": [
    "print('Number of word vectors: ' + str(len(embeddings_index)))\n",
    "print('Number of unique tokens: ' + str(vocab_size))"
   ]
  },
  {
   "cell_type": "code",
   "execution_count": 18,
   "id": "aquatic-census",
   "metadata": {
    "execution": {
     "iopub.execute_input": "2021-05-03T00:22:14.649529Z",
     "iopub.status.busy": "2021-05-03T00:22:14.648737Z",
     "iopub.status.idle": "2021-05-03T00:22:15.677525Z",
     "shell.execute_reply": "2021-05-03T00:22:15.677059Z"
    },
    "papermill": {
     "duration": 1.055038,
     "end_time": "2021-05-03T00:22:15.677654",
     "exception": false,
     "start_time": "2021-05-03T00:22:14.622616",
     "status": "completed"
    },
    "tags": []
   },
   "outputs": [],
   "source": [
    "# 300 dimensions\n",
    "embedding_dim = 300\n",
    "\n",
    "# generating embedding matrix\n",
    "embedding_matrix = np.zeros((vocab_size, embedding_dim))\n",
    "\n",
    "for word, i in tokenizer.word_index.items():\n",
    "    embedding_vector = embeddings_index.get(word)\n",
    "    \n",
    "    if embedding_vector is not None:\n",
    "        embedding_matrix[i] = embedding_vector\n",
    "        \n",
    "    # for words not present, randomly initialize   \n",
    "    else:\n",
    "        embedding_matrix[i] = np.random.randn(embedding_dim)"
   ]
  },
  {
   "cell_type": "code",
   "execution_count": 19,
   "id": "recovered-plane",
   "metadata": {
    "execution": {
     "iopub.execute_input": "2021-05-03T00:22:15.734960Z",
     "iopub.status.busy": "2021-05-03T00:22:15.733614Z",
     "iopub.status.idle": "2021-05-03T00:22:15.735959Z",
     "shell.execute_reply": "2021-05-03T00:22:15.736399Z"
    },
    "papermill": {
     "duration": 0.036643,
     "end_time": "2021-05-03T00:22:15.736531",
     "exception": false,
     "start_time": "2021-05-03T00:22:15.699888",
     "status": "completed"
    },
    "tags": []
   },
   "outputs": [],
   "source": [
    "# model layers\n",
    "def KimsCNN(embeddings, max_seq_length, num_words, embedding_dim, labels_index, trainable_weights = False):\n",
    "    \n",
    "    # input layer\n",
    "    seq_input = Input(shape = (max_seq_length,), dtype = 'int32')\n",
    "    \n",
    "    # embedding layer\n",
    "    embedding_layer = Embedding(num_words, embedding_dim, weights = [embeddings], input_length = max_seq_length,\n",
    "                                trainable = trainable_weights)(seq_input)\n",
    "    \n",
    "    # reshape\n",
    "    reshape = Reshape((max_seq_length, embedding_dim, 1))(embedding_layer)\n",
    "    \n",
    "    convs = []\n",
    "    filter_sizes = [2, 3, 4, 5, 6]\n",
    "    \n",
    "    for filter_size in filter_sizes:\n",
    "        \n",
    "        # convolution layer\n",
    "        l_conv = Conv2D(filters = 100, kernel_size = (filter_size, embedding_dim), activation = 'relu', \n",
    "                        kernel_regularizer = regularizers.l2(3))(reshape)\n",
    "        \n",
    "        # max polling layer\n",
    "        l_pool = MaxPool2D(pool_size = (max_seq_length - filter_size + 1, 1), strides = (1,1), padding = 'valid')(l_conv)\n",
    "        convs.append(l_pool)\n",
    "        \n",
    "    # concatenate the layers    \n",
    "    l_merge = concatenate(convs, axis = 1)\n",
    "    \n",
    "    # flattened\n",
    "    flatten = Flatten()(l_merge)\n",
    "    \n",
    "    # dropout layer\n",
    "    x = Dropout(0.5)(flatten)  \n",
    "    \n",
    "    # output layer\n",
    "    preds = Dense(labels_index, activation = 'sigmoid')(x)\n",
    "    \n",
    "    model = Model(seq_input, preds)\n",
    "    model.compile(loss = 'binary_crossentropy', optimizer = 'Adadelta', metrics = ['accuracy'])\n",
    "    model.summary()\n",
    "    \n",
    "    return model"
   ]
  },
  {
   "cell_type": "code",
   "execution_count": 20,
   "id": "earlier-county",
   "metadata": {
    "execution": {
     "iopub.execute_input": "2021-05-03T00:22:15.784152Z",
     "iopub.status.busy": "2021-05-03T00:22:15.783596Z",
     "iopub.status.idle": "2021-05-03T00:22:19.340672Z",
     "shell.execute_reply": "2021-05-03T00:22:19.339933Z"
    },
    "papermill": {
     "duration": 3.582631,
     "end_time": "2021-05-03T00:22:19.340860",
     "exception": false,
     "start_time": "2021-05-03T00:22:15.758229",
     "status": "completed"
    },
    "tags": []
   },
   "outputs": [
    {
     "name": "stdout",
     "output_type": "stream",
     "text": [
      "Model: \"model\"\n",
      "__________________________________________________________________________________________________\n",
      "Layer (type)                    Output Shape         Param #     Connected to                     \n",
      "==================================================================================================\n",
      "input_1 (InputLayer)            [(None, 20731)]      0                                            \n",
      "__________________________________________________________________________________________________\n",
      "embedding (Embedding)           (None, 20731, 300)   64005600    input_1[0][0]                    \n",
      "__________________________________________________________________________________________________\n",
      "reshape (Reshape)               (None, 20731, 300, 1 0           embedding[0][0]                  \n",
      "__________________________________________________________________________________________________\n",
      "conv2d (Conv2D)                 (None, 20730, 1, 100 60100       reshape[0][0]                    \n",
      "__________________________________________________________________________________________________\n",
      "conv2d_1 (Conv2D)               (None, 20729, 1, 100 90100       reshape[0][0]                    \n",
      "__________________________________________________________________________________________________\n",
      "conv2d_2 (Conv2D)               (None, 20728, 1, 100 120100      reshape[0][0]                    \n",
      "__________________________________________________________________________________________________\n",
      "conv2d_3 (Conv2D)               (None, 20727, 1, 100 150100      reshape[0][0]                    \n",
      "__________________________________________________________________________________________________\n",
      "conv2d_4 (Conv2D)               (None, 20726, 1, 100 180100      reshape[0][0]                    \n",
      "__________________________________________________________________________________________________\n",
      "max_pooling2d (MaxPooling2D)    (None, 1, 1, 100)    0           conv2d[0][0]                     \n",
      "__________________________________________________________________________________________________\n",
      "max_pooling2d_1 (MaxPooling2D)  (None, 1, 1, 100)    0           conv2d_1[0][0]                   \n",
      "__________________________________________________________________________________________________\n",
      "max_pooling2d_2 (MaxPooling2D)  (None, 1, 1, 100)    0           conv2d_2[0][0]                   \n",
      "__________________________________________________________________________________________________\n",
      "max_pooling2d_3 (MaxPooling2D)  (None, 1, 1, 100)    0           conv2d_3[0][0]                   \n",
      "__________________________________________________________________________________________________\n",
      "max_pooling2d_4 (MaxPooling2D)  (None, 1, 1, 100)    0           conv2d_4[0][0]                   \n",
      "__________________________________________________________________________________________________\n",
      "concatenate (Concatenate)       (None, 5, 1, 100)    0           max_pooling2d[0][0]              \n",
      "                                                                 max_pooling2d_1[0][0]            \n",
      "                                                                 max_pooling2d_2[0][0]            \n",
      "                                                                 max_pooling2d_3[0][0]            \n",
      "                                                                 max_pooling2d_4[0][0]            \n",
      "__________________________________________________________________________________________________\n",
      "flatten (Flatten)               (None, 500)          0           concatenate[0][0]                \n",
      "__________________________________________________________________________________________________\n",
      "dropout (Dropout)               (None, 500)          0           flatten[0][0]                    \n",
      "__________________________________________________________________________________________________\n",
      "dense (Dense)                   (None, 2)            1002        dropout[0][0]                    \n",
      "==================================================================================================\n",
      "Total params: 64,607,102\n",
      "Trainable params: 64,607,102\n",
      "Non-trainable params: 0\n",
      "__________________________________________________________________________________________________\n"
     ]
    }
   ],
   "source": [
    "# generating the model\n",
    "model = KimsCNN(embedding_matrix, max_len, vocab_size, embedding_dim, 2, True)"
   ]
  },
  {
   "cell_type": "code",
   "execution_count": 21,
   "id": "juvenile-rubber",
   "metadata": {
    "execution": {
     "iopub.execute_input": "2021-05-03T00:22:19.391884Z",
     "iopub.status.busy": "2021-05-03T00:22:19.391310Z",
     "iopub.status.idle": "2021-05-03T08:37:03.439007Z",
     "shell.execute_reply": "2021-05-03T08:37:03.439497Z"
    },
    "papermill": {
     "duration": 29684.075824,
     "end_time": "2021-05-03T08:37:03.439651",
     "exception": false,
     "start_time": "2021-05-03T00:22:19.363827",
     "status": "completed"
    },
    "tags": []
   },
   "outputs": [
    {
     "name": "stdout",
     "output_type": "stream",
     "text": [
      "Epoch 1/36\n",
      "936/936 [==============================] - 1862s 847ms/step - loss: 26.5046 - accuracy: 0.5243 - val_loss: 15.4353 - val_accuracy: 0.7951\n",
      "Epoch 2/36\n",
      "936/936 [==============================] - 791s 845ms/step - loss: 12.6903 - accuracy: 0.7177 - val_loss: 6.2264 - val_accuracy: 0.7989\n",
      "Epoch 3/36\n",
      "936/936 [==============================] - 791s 845ms/step - loss: 4.9837 - accuracy: 0.7802 - val_loss: 2.3555 - val_accuracy: 0.8178\n",
      "Epoch 4/36\n",
      "936/936 [==============================] - 791s 845ms/step - loss: 1.9369 - accuracy: 0.8241 - val_loss: 1.1008 - val_accuracy: 0.8622\n",
      "Epoch 5/36\n",
      "936/936 [==============================] - 793s 847ms/step - loss: 0.9767 - accuracy: 0.8669 - val_loss: 0.7211 - val_accuracy: 0.8929\n",
      "Epoch 6/36\n",
      "936/936 [==============================] - 793s 847ms/step - loss: 0.6846 - accuracy: 0.8884 - val_loss: 0.5953 - val_accuracy: 0.8988\n",
      "Epoch 7/36\n",
      "936/936 [==============================] - 791s 846ms/step - loss: 0.5857 - accuracy: 0.8944 - val_loss: 0.5481 - val_accuracy: 0.9062\n",
      "Epoch 8/36\n",
      "936/936 [==============================] - 795s 850ms/step - loss: 0.5468 - accuracy: 0.8979 - val_loss: 0.5280 - val_accuracy: 0.9084\n",
      "Epoch 9/36\n",
      "936/936 [==============================] - 797s 852ms/step - loss: 0.5305 - accuracy: 0.9002 - val_loss: 0.5181 - val_accuracy: 0.9089\n",
      "Epoch 10/36\n",
      "936/936 [==============================] - 796s 851ms/step - loss: 0.5226 - accuracy: 0.9053 - val_loss: 0.5122 - val_accuracy: 0.9087\n",
      "Epoch 11/36\n",
      "936/936 [==============================] - 797s 852ms/step - loss: 0.5175 - accuracy: 0.9012 - val_loss: 0.5076 - val_accuracy: 0.9111\n",
      "Epoch 12/36\n",
      "936/936 [==============================] - 798s 852ms/step - loss: 0.5126 - accuracy: 0.9011 - val_loss: 0.5041 - val_accuracy: 0.9132\n",
      "Epoch 13/36\n",
      "936/936 [==============================] - 798s 852ms/step - loss: 0.5104 - accuracy: 0.9071 - val_loss: 0.5011 - val_accuracy: 0.9103\n",
      "Epoch 14/36\n",
      "936/936 [==============================] - 798s 853ms/step - loss: 0.5065 - accuracy: 0.9073 - val_loss: 0.4983 - val_accuracy: 0.9121\n",
      "Epoch 15/36\n",
      "936/936 [==============================] - 799s 854ms/step - loss: 0.5040 - accuracy: 0.9089 - val_loss: 0.4960 - val_accuracy: 0.9119\n",
      "Epoch 16/36\n",
      "936/936 [==============================] - 799s 854ms/step - loss: 0.5011 - accuracy: 0.9096 - val_loss: 0.4937 - val_accuracy: 0.9159\n",
      "Epoch 17/36\n",
      "936/936 [==============================] - 799s 854ms/step - loss: 0.4976 - accuracy: 0.9098 - val_loss: 0.4914 - val_accuracy: 0.9161\n",
      "Epoch 18/36\n",
      "936/936 [==============================] - 795s 850ms/step - loss: 0.4968 - accuracy: 0.9106 - val_loss: 0.4890 - val_accuracy: 0.9177\n",
      "Epoch 19/36\n",
      "936/936 [==============================] - 794s 848ms/step - loss: 0.4958 - accuracy: 0.9081 - val_loss: 0.4867 - val_accuracy: 0.9167\n",
      "Epoch 20/36\n",
      "936/936 [==============================] - 793s 848ms/step - loss: 0.4931 - accuracy: 0.9087 - val_loss: 0.4847 - val_accuracy: 0.9159\n",
      "Epoch 21/36\n",
      "936/936 [==============================] - 794s 848ms/step - loss: 0.4881 - accuracy: 0.9125 - val_loss: 0.4823 - val_accuracy: 0.9167\n",
      "Epoch 22/36\n",
      "936/936 [==============================] - 793s 847ms/step - loss: 0.4884 - accuracy: 0.9085 - val_loss: 0.4803 - val_accuracy: 0.9172\n",
      "Epoch 23/36\n",
      "936/936 [==============================] - 794s 848ms/step - loss: 0.4862 - accuracy: 0.9100 - val_loss: 0.4780 - val_accuracy: 0.9177\n",
      "Epoch 24/36\n",
      "936/936 [==============================] - 793s 848ms/step - loss: 0.4837 - accuracy: 0.9108 - val_loss: 0.4758 - val_accuracy: 0.9180\n",
      "Epoch 25/36\n",
      "936/936 [==============================] - 793s 848ms/step - loss: 0.4805 - accuracy: 0.9162 - val_loss: 0.4738 - val_accuracy: 0.9183\n",
      "Epoch 26/36\n",
      "936/936 [==============================] - 794s 849ms/step - loss: 0.4806 - accuracy: 0.9118 - val_loss: 0.4718 - val_accuracy: 0.9183\n",
      "Epoch 27/36\n",
      "936/936 [==============================] - 794s 849ms/step - loss: 0.4806 - accuracy: 0.9116 - val_loss: 0.4697 - val_accuracy: 0.9188\n",
      "Epoch 28/36\n",
      "936/936 [==============================] - 795s 849ms/step - loss: 0.4758 - accuracy: 0.9135 - val_loss: 0.4675 - val_accuracy: 0.9201\n",
      "Epoch 29/36\n",
      "936/936 [==============================] - 795s 849ms/step - loss: 0.4762 - accuracy: 0.9139 - val_loss: 0.4654 - val_accuracy: 0.9191\n",
      "Epoch 30/36\n",
      "936/936 [==============================] - 795s 849ms/step - loss: 0.4685 - accuracy: 0.9198 - val_loss: 0.4634 - val_accuracy: 0.9207\n",
      "Epoch 31/36\n",
      "936/936 [==============================] - 794s 848ms/step - loss: 0.4720 - accuracy: 0.9152 - val_loss: 0.4615 - val_accuracy: 0.9217\n",
      "Epoch 32/36\n",
      "936/936 [==============================] - 794s 848ms/step - loss: 0.4696 - accuracy: 0.9142 - val_loss: 0.4595 - val_accuracy: 0.9215\n",
      "Epoch 33/36\n",
      "936/936 [==============================] - 793s 848ms/step - loss: 0.4612 - accuracy: 0.9205 - val_loss: 0.4575 - val_accuracy: 0.9225\n",
      "Epoch 34/36\n",
      "936/936 [==============================] - 794s 849ms/step - loss: 0.4618 - accuracy: 0.9202 - val_loss: 0.4554 - val_accuracy: 0.9228\n",
      "Epoch 35/36\n",
      "936/936 [==============================] - 794s 849ms/step - loss: 0.4602 - accuracy: 0.9182 - val_loss: 0.4536 - val_accuracy: 0.9236\n",
      "Epoch 36/36\n",
      "936/936 [==============================] - 794s 849ms/step - loss: 0.4600 - accuracy: 0.9163 - val_loss: 0.4517 - val_accuracy: 0.9244\n"
     ]
    }
   ],
   "source": [
    "# training the model\n",
    "batch_size = 16\n",
    "history = model.fit(X_train, y_train, epochs = 36, batch_size = batch_size, verbose = 1, validation_split = 0.2)"
   ]
  },
  {
   "cell_type": "code",
   "execution_count": 22,
   "id": "photographic-treasury",
   "metadata": {
    "execution": {
     "iopub.execute_input": "2021-05-03T08:37:22.032999Z",
     "iopub.status.busy": "2021-05-03T08:37:22.032410Z",
     "iopub.status.idle": "2021-05-03T08:37:22.324956Z",
     "shell.execute_reply": "2021-05-03T08:37:22.325467Z"
    },
    "papermill": {
     "duration": 9.385876,
     "end_time": "2021-05-03T08:37:22.325625",
     "exception": false,
     "start_time": "2021-05-03T08:37:12.939749",
     "status": "completed"
    },
    "tags": []
   },
   "outputs": [
    {
     "data": {
      "image/png": "[encoded data removed]",
      "text/plain": [
       "<Figure size 432x288 with 1 Axes>"
      ]
     },
     "metadata": {
      "needs_background": "light"
     },
     "output_type": "display_data"
    },
    {
     "data": {
      "image/png": "[encoded data removed]",
      "text/plain": [
       "<Figure size 432x288 with 1 Axes>"
      ]
     },
     "metadata": {
      "needs_background": "light"
     },
     "output_type": "display_data"
    }
   ],
   "source": [
    "# plot history\n",
    "plt.plot(history.history['accuracy'])\n",
    "plt.plot(history.history['val_accuracy'])\n",
    "plt.title('model accuracy')\n",
    "plt.ylabel('accuracy')\n",
    "plt.xlabel('epoch')\n",
    "plt.legend(['train', 'validation'], loc = 'upper left')\n",
    "plt.show()\n",
    "\n",
    "plt.plot(history.history['loss'])\n",
    "plt.plot(history.history['val_loss'])\n",
    "plt.title('model loss')\n",
    "plt.ylabel('loss')\n",
    "plt.xlabel('epoch')\n",
    "plt.legend(['train', 'validation'], loc = 'upper left')\n",
    "plt.show()"
   ]
  },
  {
   "cell_type": "code",
   "execution_count": 23,
   "id": "located-migration",
   "metadata": {
    "execution": {
     "iopub.execute_input": "2021-05-03T08:37:40.551888Z",
     "iopub.status.busy": "2021-05-03T08:37:40.550932Z",
     "iopub.status.idle": "2021-05-03T08:38:25.400925Z",
     "shell.execute_reply": "2021-05-03T08:38:25.400383Z"
    },
    "papermill": {
     "duration": 54.041935,
     "end_time": "2021-05-03T08:38:25.401067",
     "exception": false,
     "start_time": "2021-05-03T08:37:31.359132",
     "status": "completed"
    },
    "tags": []
   },
   "outputs": [],
   "source": [
    "# testing the model\n",
    "y_hat = model.predict(X_test)"
   ]
  },
  {
   "cell_type": "code",
   "execution_count": 24,
   "id": "fabulous-valuation",
   "metadata": {
    "execution": {
     "iopub.execute_input": "2021-05-03T08:38:44.119072Z",
     "iopub.status.busy": "2021-05-03T08:38:44.117937Z",
     "iopub.status.idle": "2021-05-03T08:38:44.137166Z",
     "shell.execute_reply": "2021-05-03T08:38:44.137565Z"
    },
    "papermill": {
     "duration": 9.780861,
     "end_time": "2021-05-03T08:38:44.137700",
     "exception": false,
     "start_time": "2021-05-03T08:38:34.356839",
     "status": "completed"
    },
    "tags": []
   },
   "outputs": [
    {
     "name": "stdout",
     "output_type": "stream",
     "text": [
      "Testing Accuracy\n"
     ]
    },
    {
     "data": {
      "text/plain": [
       "0.925"
      ]
     },
     "execution_count": 24,
     "metadata": {},
     "output_type": "execute_result"
    }
   ],
   "source": [
    "# testing accuracy\n",
    "print(\"Testing Accuracy\")\n",
    "accuracy_score(list(map(lambda x: np.argmax(x), y_test)), list(map(lambda x: np.argmax(x), y_hat)))"
   ]
  },
  {
   "cell_type": "code",
   "execution_count": 25,
   "id": "silver-taxation",
   "metadata": {
    "execution": {
     "iopub.execute_input": "2021-05-03T08:39:01.935428Z",
     "iopub.status.busy": "2021-05-03T08:39:01.934443Z",
     "iopub.status.idle": "2021-05-03T08:39:01.956982Z",
     "shell.execute_reply": "2021-05-03T08:39:01.956558Z"
    },
    "papermill": {
     "duration": 8.978134,
     "end_time": "2021-05-03T08:39:01.957108",
     "exception": false,
     "start_time": "2021-05-03T08:38:52.978974",
     "status": "completed"
    },
    "tags": []
   },
   "outputs": [
    {
     "data": {
      "text/plain": [
       "array([[973,  74],\n",
       "       [ 82, 951]])"
      ]
     },
     "execution_count": 25,
     "metadata": {},
     "output_type": "execute_result"
    }
   ],
   "source": [
    "# Confusion matrix (testing)\n",
    "confusion_matrix(list(map(lambda x: np.argmax(x), y_test)), list(map(lambda x: np.argmax(x), y_hat)))"
   ]
  },
  {
   "cell_type": "code",
   "execution_count": null,
   "id": "later-israel",
   "metadata": {
    "papermill": {
     "duration": 9.440672,
     "end_time": "2021-05-03T08:39:20.488758",
     "exception": false,
     "start_time": "2021-05-03T08:39:11.048086",
     "status": "completed"
    },
    "tags": []
   },
   "outputs": [],
   "source": []
  }
 ],
 "metadata": {
  "kernelspec": {
   "display_name": "Python 3",
   "language": "python",
   "name": "python3"
  },
  "language_info": {
   "codemirror_mode": {
    "name": "ipython",
    "version": 3
   },
   "file_extension": ".py",
   "mimetype": "text/x-python",
   "name": "python",
   "nbconvert_exporter": "python",
   "pygments_lexer": "ipython3",
   "version": "3.7.10"
  },
  "papermill": {
   "default_parameters": {},
   "duration": 29897.71098,
   "end_time": "2021-05-03T08:39:33.286730",
   "environment_variables": {},
   "exception": null,
   "input_path": "__notebook__.ipynb",
   "output_path": "__notebook__.ipynb",
   "parameters": {},
   "start_time": "2021-05-03T00:21:15.575750",
   "version": "2.3.3"
  }
 },
 "nbformat": 4,
 "nbformat_minor": 5
}
